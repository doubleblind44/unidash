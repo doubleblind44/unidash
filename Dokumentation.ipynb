{
 "cells": [
  {
   "cell_type": "markdown",
   "source": [
    "# Imports"
   ],
   "metadata": {
    "collapsed": false,
    "pycharm": {
     "name": "#%% md\n"
    }
   }
  },
  {
   "cell_type": "markdown",
   "source": [],
   "metadata": {
    "collapsed": false,
    "pycharm": {
     "name": "#%% md\n"
    }
   }
  },
  {
   "cell_type": "code",
   "execution_count": null,
   "outputs": [],
   "source": [
    "# Add imports\n",
    "from python import capacity, lecturesperfaculty, faculty, lectureinf, geo, rolli, workload, schedulemap\n",
    "import pandas\n",
    "import plotly.express\n",
    "import sqlalchemy\n",
    "\n",
    "db = sqlalchemy.create_engine('sqlite:///../../Daten/univis.db')"
   ],
   "metadata": {
    "collapsed": false,
    "pycharm": {
     "name": "#%%\n"
    }
   }
  },
  {
   "cell_type": "markdown",
   "source": [
    "# 0. Vorbereitung"
   ],
   "metadata": {
    "collapsed": false,
    "pycharm": {
     "name": "#%% md\n"
    }
   }
  },
  {
   "cell_type": "markdown",
   "source": [
    "Zuerst mussten wir die für die Moduldatenbank und das UnivIS Parser schreiben, damit wir besser mit den Daten arbeiten können.\n",
    "\n",
    "**Parser für die Moduldatenbank**\n",
    "Zu finden ist der Parser in dem Modul `moduldbparser.py`.\n",
    "Wir nutzen eine XML-Datei, die alle Module des Modulinformationssystems Informatik enthält und auf der Seite der Moduldatenbank erhältlich ist. In dieser XML-Datei ist zwar jedes Modul aufgelistet, aber um die Informationen zu den Modulen zu erhalten, muss eine URL aufgerufen werden, die in der XML-Datei vorhandenen ist. Ruft man diese URL auf, öffnet sich eine weitere XML-Datei.\n",
    "\n",
    "Um nun diese Informationen darzustellen, muss die Funktion `get_dataframe(file_name)` mit der ursprünglichen XML-Datei aufgerufen werden. Es wird ein Dictionary daraus erstellt, jedes Modul durchgegangen, die URLs aufgerufen, die erhaltene XML-Datei mit der Funktion `parse_url(content, dict_modules)` in ein Dictionary umgewandelt, die Zahlen in integers umgewandelt und die Wörterbücher in separate Key-Value-Paare umgewandelt. Schlussendlich kann ein pandas Dataframe erstellt werden.\n",
    "\n",
    "**Parser für UnivIS**\n",
    "Eine ausführliche Beschreibung befindet sich in der Datei univis.ipynb.\n"
   ],
   "metadata": {
    "collapsed": false,
    "pycharm": {
     "name": "#%% md\n"
    }
   }
  },
  {
   "cell_type": "markdown",
   "source": [
    "# 1. Daten sammeln und aufbereiten"
   ],
   "metadata": {
    "collapsed": false,
    "pycharm": {
     "name": "#%% md\n"
    }
   }
  },
  {
   "cell_type": "markdown",
   "source": [
    "## In welchem Maße wird die Kapazität der Räume genutzt?"
   ],
   "metadata": {
    "collapsed": false,
    "pycharm": {
     "name": "#%% md\n"
    }
   }
  },
  {
   "cell_type": "markdown",
   "source": [
    "Die benötigten Daten werden mit der Funktion `capacity(db)` aus dem Modul `capacity.py` gesammelt. Da es so viele verschiedene Räume gibt, haben wir uns entschieden, die Räume nach Größe aufzuteilen, um die Graphen übersichtlich zu halten. Wir sammeln die Daten für Räume mit einer Kapazität von mindestens 100 Personen, für Räume mit einer Kapazität von mindestens 50 aber höchstens 99 Personen und für Räume mit einer Kapazität von höchstens 49 Personen. Außerdem wollen wir noch den Mittelwert der Raumauslastung für jede Raumgröße und jedes Semester darstellen."
   ],
   "metadata": {
    "collapsed": false,
    "pycharm": {
     "name": "#%% md\n"
    }
   }
  },
  {
   "cell_type": "code",
   "execution_count": null,
   "outputs": [],
   "source": [
    "rooms_from_100, rooms_til_100, rooms_til_50, mean_f100, mean_t100, mean_t50 = capacity.capacity(db)"
   ],
   "metadata": {
    "collapsed": false,
    "pycharm": {
     "name": "#%%\n"
    }
   }
  },
  {
   "cell_type": "markdown",
   "source": [
    "In der SQL-Anfrage wird die durchschnittliche Raumauslastung jedes Raums je Semester berechnet. Dafür nutzen wir die erwartete Teilnehmerzahl der Veranstaltungen, die in diesem Raum stattfinden. Je nach Kapazität werden die Informationen zum Raum in einem anderen Dictionary abgespeichert. Um den Mittelwert herauszufinden, wird für jede Raumgröße die Raumauslastungen der entsprechenden Räume addiert und am Ende diese Summe durch die Anzahl der Räume geteilt.\n",
    "\n",
    "Als Nächstes müssen diese Dictionaries in Dataframes umgewandelt werden."
   ],
   "metadata": {
    "collapsed": false,
    "pycharm": {
     "name": "#%% md\n"
    }
   }
  },
  {
   "cell_type": "code",
   "execution_count": null,
   "outputs": [],
   "source": [
    "df_f_100 = capacity.get_dataframe(rooms_from_100)\n",
    "df_t_100 = capacity.get_dataframe(rooms_til_100)\n",
    "df_t_50 = capacity.get_dataframe(rooms_til_50)"
   ],
   "metadata": {
    "collapsed": false,
    "pycharm": {
     "name": "#%%\n"
    }
   }
  },
  {
   "cell_type": "markdown",
   "source": [
    "Zunächst wird das Dictionary jeweils in ein Dataframe umgewandelt. Jedoch ist jeder Eintrag der Liste bzw. jedes Dictionary, das die Informationen zu den Räumen enthält, in einer extra Spalte. Deswegen muss über die Spalten iteriert werden, damit die Spalte bzw. das Dictionary in mehrere Spalten aufgeteilt wird, wobei der Key der neue Spaltenname wird. Dabei entsteht jedoch pro aufgeteilte Spalte ein neues Dataframe. Die so erzeugten Dataframes müssen zusammengefügt werden. Danach wird das neue Dataframe noch so angepasst, dass wir damit unsere Graphen erstellen können."
   ],
   "metadata": {
    "collapsed": false,
    "pycharm": {
     "name": "#%% md\n"
    }
   }
  },
  {
   "cell_type": "markdown",
   "source": [
    "Die Dictionaries zum Mittelwert der Raumgrößen müssen in ein gemeinsames Dataframe umgewandelt werden."
   ],
   "metadata": {
    "collapsed": false,
    "pycharm": {
     "name": "#%% md\n"
    }
   }
  },
  {
   "cell_type": "code",
   "execution_count": null,
   "outputs": [],
   "source": [
    "df_means = capacity.get_dataframe_for_mean(mean_f100, mean_t100, mean_t50)"
   ],
   "metadata": {
    "collapsed": false,
    "pycharm": {
     "name": "#%%\n"
    }
   }
  },
  {
   "cell_type": "markdown",
   "source": [
    "Es werden die Dictionaries jeweils in Dataframes umgewandelt, Spalten und Reihen vertauscht, die Spaltennamen angepasst und am Ende die Dataframes zusammengefügt."
   ],
   "metadata": {
    "collapsed": false,
    "pycharm": {
     "name": "#%% md\n"
    }
   }
  },
  {
   "cell_type": "markdown",
   "source": [
    "## Wie sehr wurde die Kapazität während Corona verringert?"
   ],
   "metadata": {
    "collapsed": false,
    "pycharm": {
     "name": "#%% md\n"
    }
   }
  },
  {
   "cell_type": "markdown",
   "source": [
    "Die benötigten Daten werden mit der Funktion `capacity_corona(db)` aus dem Modul `capacity.py` gesammelt. Da es so viele verschiedene Räume gibt, haben wir uns entschieden die Räume nach Größe aufzuteilen, um die Graphen übersichtlich zu halten, s.o."
   ],
   "metadata": {
    "collapsed": false,
    "pycharm": {
     "name": "#%% md\n"
    }
   }
  },
  {
   "cell_type": "code",
   "execution_count": null,
   "outputs": [],
   "source": [
    "corona_from_100, corona_til_100, corona_til_50 = capacity.capacity(db)"
   ],
   "metadata": {
    "collapsed": false,
    "pycharm": {
     "name": "#%%\n"
    }
   }
  },
  {
   "cell_type": "markdown",
   "source": [
    "In der SQL-Anfrage wird die Kapazität während Corona im Verhältnis zur sonstigen Kapazität gesetzt und gleichzeitig pro Raum die Auslastung berechnet. Je nach Kapazität werden die Informationen zum Raum in dem entsprechenden Dictionary abgespeichert.\n",
    "\n",
    "Als Nächstes müssen diese Dictionaries in Dataframes umgewandelt werden, s.o."
   ],
   "metadata": {
    "collapsed": false,
    "pycharm": {
     "name": "#%% md\n"
    }
   }
  },
  {
   "cell_type": "code",
   "execution_count": null,
   "outputs": [],
   "source": [
    "df_cf_100 = capacity.get_dataframe(corona_from_100)\n",
    "df_ct_100 = capacity.get_dataframe(corona_til_100)\n",
    "df_ct_50 = capacity.get_dataframe(corona_til_50)"
   ],
   "metadata": {
    "collapsed": false,
    "pycharm": {
     "name": "#%%\n"
    }
   }
  },
  {
   "cell_type": "markdown",
   "source": [
    "## In welchem Maße wurde die reduzierte Kapazität während Corona genutzt?"
   ],
   "metadata": {
    "collapsed": false,
    "pycharm": {
     "name": "#%% md\n"
    }
   }
  },
  {
   "cell_type": "markdown",
   "source": [
    "Die Daten werden wie in der vorigen Frage gesammelt und aufbereitet. Dies ist möglich, da in der SQL-Anfrage ebenfalls die durchschnittliche Raumauslastung während Corona berechnet wird."
   ],
   "metadata": {
    "collapsed": false,
    "pycharm": {
     "name": "#%% md\n"
    }
   }
  },
  {
   "cell_type": "markdown",
   "source": [
    "## Wie hat sich die Raumverteilung der Fakultäten im Laufe der Zeit verändert?"
   ],
   "metadata": {
    "collapsed": false,
    "pycharm": {
     "name": "#%% md\n"
    }
   }
  },
  {
   "cell_type": "markdown",
   "source": [
    "Um diese Frage zu beantworten, müssen wir erst einmal die Veranstaltungen nach Fakultäten und Semester sortieren, zu den Veranstaltungen die Räume heraussuchen, die zugehörigen Adressen bestimmen und daraufhin die Koordinaten der Adressen herausfinden.\n",
    "Da die Adressen im UnivIS nicht einheitlich gespeichert und teilweise falsch geschrieben sind, mussten wir zunächst die Adressen parsen, um Koordinaten herauszufinden. Das Ergebnis speichern wir in einer Tabelle in unserer SQL-Datenbank, die durch den Aufruf der Funktion `create_table(db)` aus dem Modul `sqladdr.py`  erstellt und durch die Funktion `create_adress(db)` mit Einträgen gefüllt wird. Dabei ruft die Funktion `new_addr(addr)` aus dem Modul `parse_addr.py` auf, wodurch vor allem Abkürzungen aufgelöst und Rechtschreibfehler korrigiert werden.\n",
    "\n",
    "Nun kann mit der Funktion `addr_per_faculty(db, geoman: GeoManager)` aus dem Modul `lecturesperfaculty.py` die oben beschriebenen Informationen gesammelt werden:"
   ],
   "metadata": {
    "collapsed": false,
    "pycharm": {
     "name": "#%% md\n"
    }
   }
  },
  {
   "cell_type": "code",
   "execution_count": null,
   "outputs": [],
   "source": [
    "gm = lecturesperfaculty.GeoManager(\"stu207503@mail.uni-kiel.de\")\n",
    "all_coords = lecturesperfaculty.addr_per_faculty_now(db, gm)"
   ],
   "metadata": {
    "collapsed": false,
    "pycharm": {
     "name": "#%%\n"
    }
   }
  },
  {
   "cell_type": "markdown",
   "source": [
    "Durch die SQL-Anfrage werden alle Räume, in denen Module stattgefunden haben, und auch direkt die geparsten Adressen der Räume bestimmt. Diese Räume werden nach Semester, Fakultät und Raum gruppiert und nach Semester sortiert. Nun wird jeder Eintrag des Ergebnisses durchgegangen. Dabei werden zu unserer geparsten Adresse die Koordinaten mithilfe der Klasse `Geomanger` aus dem Modul `geomanager.py` bestimmt. Dies ist eine Klasse, die einen Cache für die Zuordnung von Adressen und Koordinaten verwaltet. Wenn eine noch unbekannte Adresse angefragt wird, leitet der Geomanager die Anfrage gemäß den [terms of service](https://operations.osmfoundation.org/policies/nominatim/) an Nominatim weiter, ansonsten gibt er den gecachten Wert zurück. Der Cache kann außerdem als json importiert/exportiert werden.\n",
    " Schlussendlich werden die Informationen zum Raum in ein Dictionary gespeichert."
   ],
   "metadata": {
    "collapsed": false,
    "pycharm": {
     "name": "#%% md\n"
    }
   }
  },
  {
   "cell_type": "markdown",
   "source": [
    "## Welche Wege müssen Studierende der Informatik bzw. Wirtschaftsinformatik in einem Semester gehen?"
   ],
   "metadata": {
    "collapsed": false,
    "pycharm": {
     "name": "#%% md\n"
    }
   }
  },
  {
   "cell_type": "markdown",
   "source": [
    "Wir analysieren hier nur die Bachelorstudiengänge, da hier genügend Pflichtmodule vorgeschrieben sind, um aussagekräftige Daten zu erhalten. Außerdem betrachten wir nur die Fachprüfungsordnungen ab 2015, da vorher keine Studienverlaufspläne in den FPOs zu finden sind.\n",
    "\n",
    "Wir müssen zunächst die Vorlesungen, Übungen, Seminare usw. sammeln, die in einem Semester gehört werden. Für Informatik beschränken wir uns auf die Pflichtmodule und für Wirtschaftsinformatik wird die BWL-Variante des Studiengangs ohne die Wahlpflichtmodule betrachtet. Jedoch müssen wir hier auch darauf achten, dass die Veranstaltungen dem richtigen Fachsemester zugeordnet werden. Die Schwierigkeit ist die Veranstaltungen der aktiven Fachprüfungsordnungen zuzurechnen.\n",
    "\n",
    "Mithilfe der Funktion `build_schedule(db, modules, winf_modules)` aus dem Modul `lecturesperfaculty.py` werden zuerst die Lectures einem Fachsemester und Semester zugeordnet.\n",
    "Dafür müssen jedoch vorher die Lectures gesammelt werden, die für Informatik bzw. Wirtschaftsinformatik relevant sein könnten. Zuerst werden mithilfe der Funktion `get_lectures(db)` alle Lectures aus dem UnivIS den Fakultäten und Semestern zugeordnet."
   ],
   "metadata": {
    "collapsed": false,
    "pycharm": {
     "name": "#%% md\n"
    }
   }
  },
  {
   "cell_type": "code",
   "execution_count": null,
   "outputs": [],
   "source": [
    "all_modules = lecturesperfaculty.get_lectures(db)"
   ],
   "metadata": {
    "collapsed": false,
    "pycharm": {
     "name": "#%%\n"
    }
   }
  },
  {
   "cell_type": "markdown",
   "source": [
    "Für Informatik brauchen wir die Module der Technischen Fakultät und der\n",
    "Mathematisch-Naturwissenschaftlichen Fakultät:"
   ],
   "metadata": {
    "collapsed": false,
    "pycharm": {
     "name": "#%% md\n"
    }
   }
  },
  {
   "cell_type": "code",
   "execution_count": null,
   "outputs": [],
   "source": [
    "techn = all_modules[faculty.Faculty.TECHN.value]\n",
    "mathe = all_modules[faculty.Faculty.MATHE.value]\n",
    "\n",
    "modules_inf = {}\n",
    "for sem in techn:\n",
    "    modules_inf[sem] = techn[sem] + mathe[sem]"
   ],
   "metadata": {
    "collapsed": false,
    "pycharm": {
     "name": "#%%\n"
    }
   }
  },
  {
   "cell_type": "markdown",
   "source": [
    "Für Wirtschaftsinformatik brauchen wir zusätzlich die Module der Wirtschafts- und Sozialwissenschaftlichen Fakultät und Rechtswissenschaftlichen Fakultät:"
   ],
   "metadata": {
    "collapsed": false,
    "pycharm": {
     "name": "#%% md\n"
    }
   }
  },
  {
   "cell_type": "code",
   "execution_count": null,
   "outputs": [],
   "source": [
    "wirtsc = all_modules[lecturesperfaculty.Faculty.WIRTSC.value]\n",
    "law = all_modules[lecturesperfaculty.Faculty.RECHTS.value]\n",
    "\n",
    "modules_winf = {}\n",
    "for sem in techn:\n",
    "    modules_winf[sem] = techn[sem] + mathe[sem] + wirtsc[sem] + law[sem]"
   ],
   "metadata": {
    "collapsed": false,
    "pycharm": {
     "name": "#%%\n"
    }
   }
  },
  {
   "cell_type": "markdown",
   "source": [
    "Nun kann die Funktion `build_schedule(db, modules, winf_modules)` aufgerufen werden."
   ],
   "metadata": {
    "collapsed": false,
    "pycharm": {
     "name": "#%% md\n"
    }
   }
  },
  {
   "cell_type": "markdown",
   "source": [
    "Für Informatik:"
   ],
   "metadata": {
    "collapsed": false,
    "pycharm": {
     "name": "#%% md\n"
    }
   }
  },
  {
   "cell_type": "code",
   "execution_count": null,
   "outputs": [],
   "source": [
    "schedule_ready_inf = lectureinf.build_schedule(db, modules_inf)"
   ],
   "metadata": {
    "collapsed": false,
    "pycharm": {
     "name": "#%%\n"
    }
   }
  },
  {
   "cell_type": "markdown",
   "source": [
    "Für Wirtschaftsinformatik:"
   ],
   "metadata": {
    "collapsed": false,
    "pycharm": {
     "name": "#%% md\n"
    }
   }
  },
  {
   "cell_type": "code",
   "execution_count": null,
   "outputs": [],
   "source": [
    "schedule_ready_winf = lectureinf.build_schedule(db, modules_winf, True)"
   ],
   "metadata": {
    "collapsed": false,
    "pycharm": {
     "name": "#%%\n"
    }
   }
  },
  {
   "cell_type": "markdown",
   "source": [
    "Dabei wird je nachdem, ob die Funktion für Wirtschaftsinformatik oder Informatik aufgerufen wurde, das entsprechende Dictionary mit den Pflichtmodulen der verschiedenen FPOs genutzt.\n",
    "Nun wird mithilfe der SQL-Anfrage für jedes Semester die Lectures bestimmt. Durch das Ergebnis der Anfrage wird iteriert (jeder Eintrag stellt ein Modul dar), wobei zunächst die Module der technischen Fakultät aussortiert werden, die nicht zum Institut der Informatik und nicht zu den gefragten Studiengängen gehören. Daraufhin werden die verschiedenen FPOs eines Studiengangs und die Fachsemester der aktuellen FPO durchgegangen. Als Nächstes wird eine Formel angewendet, um zu sehen, ob die aktuelle FPO in dem aktuellen Semester und Fachsemester aktiv ist. Wenn dies der Fall ist, kann überprüft werden, ob die momentane Veranstaltung für das aktuelle Fachsemester und die FPO vorgesehen ist.\n",
    "\n",
    "Einige Module müssen gesondert behandelt werden:\n",
    "    -\tSeminare und Projekte werden in einem Semester mehrfach angeboten, aber wir wollen jeweils nur eins aufnehmen\n",
    "    -\tModule für Zweifächler sollen ignoriert werden\n",
    "    -\tStatistische Methoden und Wissenschaftliches Arbeiten werden auch von anderen Fakultäten angeboten\n",
    "    -\tTGI für Wirtschaftsinformatiker hat in manchen Semestern einen eigenen Eintrag, aber in anderen wird der UnivIS-Eintrag von den Informatikern übernommen\n",
    "    -\tDie Vorlesung „Einführung in die Volkswirtschaftslehre“ für Wirtschafsinformatiker soll nur einmal aufgenommen werden\n",
    "\n",
    "Ist diese Funktionen fertig, fehlen nun noch die Übungen. Dabei muss darauf geachtet werden, dass die Übungen in den gleichen Fachsemestern aufgenommen werden wie die Vorlesungen. Für diese Aufgabe wurde die Funktion `add_exercises_inf(schedule, db)` bzw. `add_exercises_winf(schedule, db)` geschrieben, die im Modul `lectureinf.py` zu finden ist.\n"
   ],
   "metadata": {
    "collapsed": false,
    "pycharm": {
     "name": "#%% md\n"
    }
   }
  },
  {
   "cell_type": "markdown",
   "source": [
    "Für Informatik:"
   ],
   "metadata": {
    "collapsed": false,
    "pycharm": {
     "name": "#%% md\n"
    }
   }
  },
  {
   "cell_type": "code",
   "execution_count": null,
   "outputs": [],
   "source": [
    "schedule_exercises_inf = lectureinf.add_exercises_inf(schedule_ready_inf, db)"
   ],
   "metadata": {
    "collapsed": false,
    "pycharm": {
     "name": "#%%\n"
    }
   }
  },
  {
   "cell_type": "markdown",
   "source": [
    "Für Wirtschaftinformatik:"
   ],
   "metadata": {
    "collapsed": false,
    "pycharm": {
     "name": "#%% md\n"
    }
   }
  },
  {
   "cell_type": "code",
   "execution_count": null,
   "outputs": [],
   "source": [
    "schedule_exercises_winf = lectureinf.add_exercises_winf(schedule_ready_winf, db)"
   ],
   "metadata": {
    "collapsed": false,
    "pycharm": {
     "name": "#%%\n"
    }
   }
  },
  {
   "cell_type": "markdown",
   "source": [
    "In diesen Funktionen werden die Übungen hinzugefügt. Durch die UnivIS-Flag „parent-lv“ kann eine Übung der Vorlesung zugeordnet werden.\n",
    "Für Wirtschaftsinformatik müssen einige Übungen gesondert behandelt werden. Zwei Übungen werden jeweils doppelt hinzugefügt. Die einzig andere Möglichkeit diesen Fehler zu beheben wäre nach der Flag „classification“ zu gruppieren, da die Übungen nur diesen Eintrag gemeinsam haben. Jedoch werden dadurch andere Übungen ebenfalls nicht aufgenommen, die jedoch für das Semester vorgesehen sind.\n",
    "Eine andere Übung wird gar nicht erst aufgenommen, da der Eintrag zu parent-lv in der vorherigen Funktion nicht ins Ergebnis eingetragen wurde, was daran liegt, dass die Vorlesung mehrfach angeboten wird und im UnivIS eingetragen wurde. Deshalb muss die Übung am Ende der Funktion extra aufgenommen.\n",
    "\n",
    "Somit haben wir die Vorlesungen, Übungen, Seminare usw. den Fachsemestern eines Semesters zugeordnet.\n",
    "Nun kann ein beispielhafter Stundenplan für jedes Semester und Fachsemester entwickelt werden. Dazu wird die Funktion `get_dependencies(db, schedule)` verwendet."
   ],
   "metadata": {
    "collapsed": false,
    "pycharm": {
     "name": "#%% md\n"
    }
   }
  },
  {
   "cell_type": "markdown",
   "source": [
    "Für Informatik:"
   ],
   "metadata": {
    "collapsed": false,
    "pycharm": {
     "name": "#%% md\n"
    }
   }
  },
  {
   "cell_type": "code",
   "execution_count": null,
   "outputs": [],
   "source": [
    "plan_inf = lectureinf.get_dependencies(schedule_exercieses_inf, db)"
   ],
   "metadata": {
    "collapsed": false,
    "pycharm": {
     "name": "#%%\n"
    }
   }
  },
  {
   "cell_type": "markdown",
   "source": [
    "Für Wirtschaftsinformatik:"
   ],
   "metadata": {
    "collapsed": false,
    "pycharm": {
     "name": "#%% md\n"
    }
   }
  },
  {
   "cell_type": "code",
   "execution_count": null,
   "outputs": [],
   "source": [
    "plan_winf = lectureinf.get_dependencies(schedule_exercieses_winf, db)"
   ],
   "metadata": {
    "collapsed": false,
    "pycharm": {
     "name": "#%%\n"
    }
   }
  },
  {
   "cell_type": "markdown",
   "source": [
    "Die Funktion `get_dependencies` erstellt mithilfe der Datenbank und einer Auflistung an Pflichtmodulen pro Semester und Fachsemester (siehe oben) einen exemplarischen Stundenplan für alle gegebenen Semester und Fachsemester. Dabei werden Vorlesungen als verplfichtend angesehen, Übungen gelten für das Programm als vernachlässigbar. Zudem wird dem Stundenplan maximal ein Übungstermin pro Modul hinzugefügt. Wenn verschiedene Vorlesungen zum selben Zeitpunkt stattfinden, kann kein valider Stundenplan generiert werden. get_dependencies nutzt die Funktion `example_schedule`. Diese baut den Stundenplan eines einzelnen Semesters und Fachsemesters rekursiv auf.\n",
    "Im Studiengang Wirtschaftsinformatik können für einige Semester keine validen Stundepläne gefunden werden, da sich in diesen Fällen für einige Fachsemester Vorlesungen von Pflichtmodulen überschneiden."
   ],
   "metadata": {
    "collapsed": false,
    "pycharm": {
     "name": "#%% md\n"
    }
   }
  },
  {
   "cell_type": "markdown",
   "source": [
    "| Semester | Fachsemester | Überschnitt |\n",
    "| -------- | ------------ | ----------- |\n",
    "| 2016s    | 2.           | ADS und Produkion & Logistik |\n",
    "| 2021s    | 4.           | TGI und Entscheidungsrechnungen |\n",
    "| 2022s    | 2.           | ProgOO und Entscheidungsrechnungen |\n",
    "| 2022s    | 4.           | TGI und Entscheidungsrechnungen |"
   ],
   "metadata": {
    "collapsed": false,
    "pycharm": {
     "name": "#%% md\n"
    }
   }
  },
  {
   "cell_type": "markdown",
   "source": [
    "Am Ende erhalten wir die Adressen der Räume, in denen die Lectures des Zeitplans stattfinden.\n",
    "\n",
    "Haben wir nun die Adressen, müssen für die Darstellung noch die Koordinaten gesammelt werden. Dafür ist die Funktion `info_coords(dependencies)` aus dem Modul `geo.py` zuständig."
   ],
   "metadata": {
    "collapsed": false,
    "pycharm": {
     "name": "#%% md\n"
    }
   }
  },
  {
   "cell_type": "markdown",
   "source": [
    "Für Informatik:"
   ],
   "metadata": {
    "collapsed": false,
    "pycharm": {
     "name": "#%% md\n"
    }
   }
  },
  {
   "cell_type": "code",
   "execution_count": null,
   "outputs": [],
   "source": [
    "coors_inf = geo.inf_coords(plan_inf)"
   ],
   "metadata": {
    "collapsed": false,
    "pycharm": {
     "name": "#%%\n"
    }
   }
  },
  {
   "cell_type": "markdown",
   "source": [
    "Für Wirtschaftsinformatik:"
   ],
   "metadata": {
    "collapsed": false,
    "pycharm": {
     "name": "#%% md\n"
    }
   }
  },
  {
   "cell_type": "code",
   "execution_count": null,
   "outputs": [],
   "source": [
    "coors_winf = geo.inf_coords(plan_winf)"
   ],
   "metadata": {
    "collapsed": false,
    "pycharm": {
     "name": "#%%\n"
    }
   }
  },
  {
   "cell_type": "markdown",
   "source": [
    "Es wird durch den vorher erstellten Zeitplan iteriert und die Koordinaten im Geomanager angefragt. Um die Darstellung der Wege möglichst genau zu halten, werden nur Adressen überprüft, die eine Hausnummer beinhalten, da ansonsten ein zufälliger Ort in der jeweiligen Straße genommen wird.\n",
    "Wenn es zu der Adresse Koordinaten gibt, speichern wir sie im Dictionary."
   ],
   "metadata": {
    "collapsed": false,
    "pycharm": {
     "name": "#%% md\n"
    }
   }
  },
  {
   "cell_type": "markdown",
   "source": [
    "Als Nächstes müssen nun die Routen berechnet werden, wofür die Funktion `routes_for_df(coor_dependencies)` verwendet wird."
   ],
   "metadata": {
    "collapsed": false,
    "pycharm": {
     "name": "#%% md\n"
    }
   }
  },
  {
   "cell_type": "markdown",
   "source": [
    "Für Informatik:"
   ],
   "metadata": {
    "collapsed": false,
    "pycharm": {
     "name": "#%% md\n"
    }
   }
  },
  {
   "cell_type": "code",
   "execution_count": null,
   "outputs": [],
   "source": [
    "routes_inf = geo.routes_for_df(coors_inf)"
   ],
   "metadata": {
    "collapsed": false,
    "pycharm": {
     "name": "#%%\n"
    }
   }
  },
  {
   "cell_type": "markdown",
   "source": [
    "Für Wirtschaftsinformatik:"
   ],
   "metadata": {
    "collapsed": false,
    "pycharm": {
     "name": "#%% md\n"
    }
   }
  },
  {
   "cell_type": "code",
   "execution_count": null,
   "outputs": [],
   "source": [
    "routes_winf = geo.routes_for_df(coors_winf)"
   ],
   "metadata": {
    "collapsed": false,
    "pycharm": {
     "name": "#%%\n"
    }
   }
  },
  {
   "cell_type": "markdown",
   "source": [
    "Zunächst wird durch die Koordinaten iteriert. Wenn es zu einem Tag nur eine Koordinate gibt, wird diese direkt im Ergebnis gespeichert und der nächste Tag überprüft. Ansonsten wird über die Koordinaten iteriert, wobei nur die Route berechnet wird, wenn die aktuelle und nächste Koordinate nicht None ist und wir nicht die letzte Koordinate betrachten. In diesen Fällen wird die aktuelle Koordinate nur als Wegpunkt gespeichert. Andernfalls wird die Route aus dem Cache dieser Funktion übernommen oder mithilfe der Funktion `pyroutedistance(lon0, lat0, lon3, lat3)` aus dem Modul `osmroute.py` die Route bestimmt. In dieser Funktion wird das externe Modul `pyroutelib3` genutzt, um die Koordinaten zwischen zwei Punkten herauszufinden.\n",
    "\n",
    "Der letzte Schritt ist die Routen in ein Dataframe umzuwandeln, damit es leichter ist, diese auf einer Karte dazustellen. Dies geschieht mit der Funktion `get_dataframe(routes)` aus dem Modul `geo.py`, die so ähnlich funktioniert wie die Funktion aus dem Modul `capacity.py`."
   ],
   "metadata": {
    "collapsed": false,
    "pycharm": {
     "name": "#%% md\n"
    }
   }
  },
  {
   "cell_type": "markdown",
   "source": [
    "Für Informatik:"
   ],
   "metadata": {
    "collapsed": false,
    "pycharm": {
     "name": "#%% md\n"
    }
   }
  },
  {
   "cell_type": "code",
   "execution_count": null,
   "outputs": [],
   "source": [
    "fertig_inf = geo.get_dataframe(routes_inf)"
   ],
   "metadata": {
    "collapsed": false,
    "pycharm": {
     "name": "#%%\n"
    }
   }
  },
  {
   "cell_type": "markdown",
   "source": [
    "Für Wirtschaftsinformatik:"
   ],
   "metadata": {
    "collapsed": false,
    "pycharm": {
     "name": "#%% md\n"
    }
   }
  },
  {
   "cell_type": "code",
   "execution_count": null,
   "outputs": [],
   "source": [
    "fertig_winf = geo.get_dataframe(routes_winf)"
   ],
   "metadata": {
    "collapsed": false,
    "pycharm": {
     "name": "#%%\n"
    }
   }
  },
  {
   "cell_type": "markdown",
   "source": [
    "## Wie barrierefrei sind die Veranstaltungen der einzelnen Fakultäten für Rollstuhlfahrende?"
   ],
   "metadata": {
    "collapsed": false,
    "pycharm": {
     "name": "#%% md\n"
    }
   }
  },
  {
   "cell_type": "markdown",
   "source": [
    "Um die Daten für diese Frage zu erhalten, muss die Funktion `rollis(db)` aus dem Modul `rolli.py` verwendet werden."
   ],
   "metadata": {
    "collapsed": false,
    "pycharm": {
     "name": "#%% md\n"
    }
   }
  },
  {
   "cell_type": "code",
   "execution_count": null,
   "outputs": [],
   "source": [
    "rolli_data = rolli.rollis(db)"
   ],
   "metadata": {
    "collapsed": false,
    "pycharm": {
     "name": "#%%\n"
    }
   }
  },
  {
   "cell_type": "markdown",
   "source": [
    "Diese Funktion ermittelt für jede Fakultät und Semester, wie viele Räume für Rollstuhlfahrer zugänglich sind, und berechnet gleichzeitig den prozentualen Anteil.\n",
    "\n",
    "Als Nächstes muss das Dictionary in ein Dataframe umgewandelt werden, v.a. müssen aus den Semestern und den Werten aus der Zelle zusammen mit der Fakultät eine Reihe entstehen:"
   ],
   "metadata": {
    "collapsed": false,
    "pycharm": {
     "name": "#%% md\n"
    }
   }
  },
  {
   "cell_type": "code",
   "execution_count": null,
   "outputs": [],
   "source": [
    "# Mit from_dict ein Dataframe erstellen\n",
    "df = pd.DataFrame().from_dict(rolli_data)\n",
    "# Den Index als Spalte rausholen\n",
    "df = df.reset_index(level=0)\n",
    "# Den Eelevanten Wert aus den Tupeln holen\n",
    "df = df.applymap(lambda x: x[2] if type(x) is tuple and len(x) >= 3 else x)\n",
    "# Semester als Spalten machen\n",
    "df = pd.melt(df, id_vars=['index'])\n",
    "# Die neu erstellten Spalten umbenennen\n",
    "df = df.rename(columns={'index': 'Fakultät', 'variable': 'Semester', 'value': 'Prozentualer Anteil'})"
   ],
   "metadata": {
    "collapsed": false,
    "pycharm": {
     "name": "#%%\n"
    }
   }
  },
  {
   "cell_type": "markdown",
   "source": [
    "## Wie hat sich die Arbeitsbelastung einer Lehrperson bezüglich Lehrveranstaltungen entwickelt?"
   ],
   "metadata": {
    "collapsed": false,
    "pycharm": {
     "name": "#%% md\n"
    }
   }
  },
  {
   "cell_type": "markdown",
   "source": [
    "Wir haben uns dazu entschieden nur die eigenständigen Veranstaltungen zu beachten, da zum Beispiel Übungen und Praktika von HiWis übernommen werden, die im UnivIS häufig nicht aufgeführt werden.\n",
    "Um die Daten für diese Fragen zu erhalten, muss die Funktion `workloads(db)` aus dem Modul `workload.py` ausgeführt werden."
   ],
   "metadata": {
    "collapsed": false,
    "pycharm": {
     "name": "#%% md\n"
    }
   }
  },
  {
   "cell_type": "code",
   "execution_count": null,
   "outputs": [],
   "source": [
    "df_work = workload.workloads(db)"
   ],
   "metadata": {
    "collapsed": false,
    "pycharm": {
     "name": "#%%\n"
    }
   }
  },
  {
   "cell_type": "markdown",
   "source": [
    "In einer SQL-Anfrage wird die durchschnittliche Arbeitsbelastung einer Lehrperson für jede Fakultät und jedes Semester berechnet und aus der SQL-Query wird direkt ein Dataframe erstellt."
   ],
   "metadata": {
    "collapsed": false,
    "pycharm": {
     "name": "#%% md\n"
    }
   }
  },
  {
   "cell_type": "markdown",
   "source": [
    "## In welcher Fakultät finden die meisten Veranstaltungen auf Englisch statt?"
   ],
   "metadata": {
    "collapsed": false,
    "pycharm": {
     "name": "#%% md\n"
    }
   }
  },
  {
   "cell_type": "markdown",
   "source": [
    "Wir haben uns dazu entschieden nur die eigenständigen Veranstaltungen zu beachten, da die Englisch-Flag für die Übungen usw. nicht gut gepflegt wird und deren Sprachen sich häufig an den übergeordneten Veranstaltungen orientieren.\n",
    "\n",
    "Die benötigten Daten werden mit der Funktion `englishs(db)` aus dem Modul `english.py` gesammelt."
   ],
   "metadata": {
    "collapsed": false,
    "pycharm": {
     "name": "#%% md\n"
    }
   }
  },
  {
   "cell_type": "code",
   "execution_count": null,
   "outputs": [],
   "source": [
    "df_english = english.englishs(db)"
   ],
   "metadata": {
    "collapsed": false,
    "pycharm": {
     "name": "#%%\n"
    }
   }
  },
  {
   "cell_type": "markdown",
   "source": [
    "In einer SQL-Anfrage wird der prozentuale Anteil der englischsprachigen Lectures für jede Fakultät und jedes Semester berechnet und aus der SQL-Query wird direkt ein Dataframe erstellt."
   ],
   "metadata": {
    "collapsed": false,
    "pycharm": {
     "name": "#%% md\n"
    }
   }
  },
  {
   "cell_type": "markdown",
   "source": [
    "## Wie hat sich der Anteil von Mitarbeitenden mit nicht-männlich erkannten Vornamen entwickelt?"
   ],
   "metadata": {
    "collapsed": false,
    "pycharm": {
     "name": "#%% md\n"
    }
   }
  },
  {
   "cell_type": "markdown",
   "source": [
    "## Gibt es Kriterien, anhand derer der Gewinner des Best-Prof-Awards vorhergesagt werden kann?"
   ],
   "metadata": {
    "collapsed": false,
    "pycharm": {
     "name": "#%% md\n"
    }
   }
  },
  {
   "cell_type": "markdown",
   "source": [
    "# 2. Daten visualisieren"
   ],
   "metadata": {
    "collapsed": false,
    "pycharm": {
     "name": "#%% md\n"
    }
   }
  },
  {
   "cell_type": "markdown",
   "source": [
    "## In welchem Maße wird die Kapazität eines Raumes genutzt?"
   ],
   "metadata": {
    "collapsed": false,
    "pycharm": {
     "name": "#%% md\n"
    }
   }
  },
  {
   "cell_type": "markdown",
   "source": [
    "Die Graphen werden alle durch die Funktion `visualize_capacity(df_rooms_f100, df_rooms_t100, df_rooms_t50, df_means)` erstellt:"
   ],
   "metadata": {
    "collapsed": false,
    "pycharm": {
     "name": "#%% md\n"
    }
   }
  },
  {
   "cell_type": "code",
   "execution_count": null,
   "outputs": [],
   "source": [
    "fig_means, fig_f100, fig_t100, fig_t50, fig_t50_part = capacity.visualize_capacity(df_f_100, df_t_100, df_t_50, df_means)"
   ],
   "metadata": {
    "collapsed": false,
    "pycharm": {
     "name": "#%%\n"
    }
   }
  },
  {
   "cell_type": "markdown",
   "source": [
    "Um die Veränderung der Raumauslastungen aller Raumgrößen auf einen Blick zu sehen, erstellen wir einen Graphen, der den Mittelwert jedes Raumes für jedes Semester anzeigt:"
   ],
   "metadata": {
    "collapsed": false,
    "pycharm": {
     "name": "#%% md\n"
    }
   }
  },
  {
   "cell_type": "code",
   "execution_count": null,
   "outputs": [],
   "source": [
    "fig_means"
   ],
   "metadata": {
    "collapsed": false,
    "pycharm": {
     "name": "#%%\n"
    }
   }
  },
  {
   "cell_type": "markdown",
   "source": [
    "Für die Räume mit einer Kapazität von mindestens 100 Personen bzw. von höchstens 100 Personen erstellen wir einen animierten Scatterplot:"
   ],
   "metadata": {
    "collapsed": false,
    "pycharm": {
     "name": "#%% md\n"
    }
   }
  },
  {
   "cell_type": "code",
   "execution_count": null,
   "outputs": [],
   "source": [
    "fig_f100"
   ],
   "metadata": {
    "collapsed": false,
    "pycharm": {
     "name": "#%%\n"
    }
   }
  },
  {
   "cell_type": "code",
   "execution_count": null,
   "outputs": [],
   "source": [
    "fig_t100"
   ],
   "metadata": {
    "collapsed": false,
    "pycharm": {
     "name": "#%%\n"
    }
   }
  },
  {
   "cell_type": "markdown",
   "source": [
    " Für die kleineren Räume haben wir uns entschieden zwei einfache Scatterplots zu erstellen, da eine Animation wegen der vielen Räume und Daten unübersichtlich wird:"
   ],
   "metadata": {
    "collapsed": false,
    "pycharm": {
     "name": "#%% md\n"
    }
   }
  },
  {
   "cell_type": "code",
   "execution_count": null,
   "outputs": [],
   "source": [
    "fig_t50"
   ],
   "metadata": {
    "collapsed": false,
    "pycharm": {
     "name": "#%%\n"
    }
   }
  },
  {
   "cell_type": "code",
   "execution_count": null,
   "outputs": [],
   "source": [
    "fig_t50_part"
   ],
   "metadata": {
    "collapsed": false,
    "pycharm": {
     "name": "#%%\n"
    }
   }
  },
  {
   "cell_type": "markdown",
   "source": [
    "In dem Plot für die Räume mit einer Kapazität von mindestens 100 Personen ist zu erkennen, dass im Sommersemester 2021 die Raumauslastung aller Räume auf einmal konsequent sinkt. Dies scheint mit Corona zusammenzuhängen. Sonst ist auffällig, dass die Raumauslastung meistens unter 100% bleibt.\n",
    "Es sticht heraus, dass mehrere mittlere Räume seit einigen Jahren im Wintersemester stark überbelegt wurden.\n",
    "Bei den kleinen Räumen sind Häufungen z.B. bei einer Raumauslastung von 50% sichtbar. Unter 50% sind im Vergleich eher weniger Räume belegt. Dies erweckt den Eindruck, dass darauf geachtet wird, die kleinen Räume mit mindestens 50% zu belegen.\n",
    "\n",
    "Wenn man sich die Mittelwerte anschaut, fällt auf, dass die größeren Räume die geringste und die kleineren Räume die höchste Raumauslastung aufweisen. Dabei bewegt sich die durchschnittliche Raumauslastung der mittleren und größeren Räume immer unter 100%, was darauf schließen lässt, dass diese Räume ihre Kapazitäten im Durchschnitt nicht vollständig ausschöpfen. Weiter ist erkennbar, dass die kleineren Räume im Vergleich zu den anderen Räumen stark bis überbelegt werden."
   ],
   "metadata": {
    "collapsed": false,
    "pycharm": {
     "name": "#%% md\n"
    }
   }
  },
  {
   "cell_type": "markdown",
   "source": [
    "## Wie sehr wurde die Kapazität während Corona verringert?"
   ],
   "metadata": {
    "collapsed": false,
    "pycharm": {
     "name": "#%% md\n"
    }
   }
  },
  {
   "cell_type": "markdown",
   "source": [
    "Um diese Frage zu beantworten, haben wir für jede der drei Raumgrößen einen Scatterplot erstellt, der jeweils durch den Aufruf der Funktion `visualize_corona(df_corona_f100, df_corona_t100, df_corona_t50)` generiert werden."
   ],
   "metadata": {
    "collapsed": false,
    "pycharm": {
     "name": "#%% md\n"
    }
   }
  },
  {
   "cell_type": "code",
   "execution_count": null,
   "outputs": [],
   "source": [
    "fig_cap_f100, fig_cap_t100, fig_cap_t50, fig_deg_f100, fig_deg_t100, fig_deg_t50 = capacity.visualize_corona(df_cf_100, df_ct_100, df_ct_50)"
   ],
   "metadata": {
    "collapsed": false,
    "pycharm": {
     "name": "#%%\n"
    }
   }
  },
  {
   "cell_type": "code",
   "execution_count": null,
   "outputs": [],
   "source": [
    "fig_cap_f100"
   ],
   "metadata": {
    "collapsed": false,
    "pycharm": {
     "name": "#%%\n"
    }
   }
  },
  {
   "cell_type": "code",
   "execution_count": null,
   "outputs": [],
   "source": [
    "fig_cap_t100"
   ],
   "metadata": {
    "collapsed": false,
    "pycharm": {
     "name": "#%%\n"
    }
   }
  },
  {
   "cell_type": "code",
   "execution_count": null,
   "outputs": [],
   "source": [
    "fig_cap_t50"
   ],
   "metadata": {
    "collapsed": false,
    "pycharm": {
     "name": "#%%\n"
    }
   }
  },
  {
   "cell_type": "markdown",
   "source": [
    "Im Zuge der Pandemie wurde die Kapazität der großen Räume in der Regel auf ca. 10% bis 18% der ursprünglichen Kapzität reduziert. Bei den mittleren Räumen wurde die Kapazität nicht ganz so stark verringert, aber befindet sich immer noch im Bereich von unter 50%. Die Kapazität der kleinen Räume wurde auf ca. 14% bis 70% reduziert, was deutlich über den Anteil der anderen Raumgrößen liegt."
   ],
   "metadata": {
    "collapsed": false,
    "pycharm": {
     "name": "#%% md\n"
    }
   }
  },
  {
   "cell_type": "markdown",
   "source": [
    "## In welchem Maße wurde die reduzierte Kapazität während Corona genutzt?"
   ],
   "metadata": {
    "collapsed": false,
    "pycharm": {
     "name": "#%% md\n"
    }
   }
  },
  {
   "cell_type": "markdown",
   "source": [
    "Um diese Frage zu beantworten, haben wir für jede der drei Raumgrößen einen Scatterplot erstellt."
   ],
   "metadata": {
    "collapsed": false,
    "pycharm": {
     "name": "#%% md\n"
    }
   }
  },
  {
   "cell_type": "code",
   "execution_count": null,
   "outputs": [],
   "source": [
    "fig_deg_f100"
   ],
   "metadata": {
    "collapsed": false,
    "pycharm": {
     "name": "#%%\n"
    }
   }
  },
  {
   "cell_type": "code",
   "execution_count": null,
   "outputs": [],
   "source": [
    "fig_deg_t100"
   ],
   "metadata": {
    "collapsed": false,
    "pycharm": {
     "name": "#%%\n"
    }
   }
  },
  {
   "cell_type": "code",
   "execution_count": null,
   "outputs": [],
   "source": [
    "fig_deg_t50"
   ],
   "metadata": {
    "collapsed": false,
    "pycharm": {
     "name": "#%%\n"
    }
   }
  },
  {
   "cell_type": "markdown",
   "source": [
    "Es fällt auf, dass bei den größeren Räumen im Sommersemester 2020 stark darauf geachtet wurde, die Räume mit weniger Personen zu belegen. Aber in den folgenden Semestern ist die Raumauslastung je nach Raum sehr unterschiedlich und wieder stark angestiegen. Die mittleren Räume wurden während Corona allgemein nicht stark belastet und die kleineren Räume wurden wieder teilweise überbelegt."
   ],
   "metadata": {
    "collapsed": false,
    "pycharm": {
     "name": "#%% md\n"
    }
   }
  },
  {
   "cell_type": "markdown",
   "source": [
    "## Wie hat sich die Raumverteilung der Fakultäten im Laufe der Zeit verändert?"
   ],
   "metadata": {
    "collapsed": false,
    "pycharm": {
     "name": "#%% md\n"
    }
   }
  },
  {
   "cell_type": "markdown",
   "source": [
    "Die Raumverteilung stellen wir auf einer Karte dar, wobei man die Zuordnung zu den verschiedenen Fakultäten sehen kann. Als weitere Art der Visualisierung haben wir uns für eine Heatmap entschieden. Diese zeigt die \"Raumwanderung\" der Fakultäten über die Semester an. Somit ist gut zu erkennen, an welchen Orten die verschiedenen Fakultäten die meisten Veranstaltungen haben."
   ],
   "metadata": {
    "collapsed": false,
    "pycharm": {
     "name": "#%% md\n"
    }
   }
  },
  {
   "cell_type": "code",
   "execution_count": null,
   "outputs": [],
   "source": [
    "facultymap.create_map(DB, GM)"
   ],
   "metadata": {
    "collapsed": false,
    "pycharm": {
     "name": "#%%\n"
    }
   }
  },
  {
   "cell_type": "code",
   "execution_count": null,
   "outputs": [],
   "source": [
    "facultymap.create_heatmap(DB, GM)['all']"
   ],
   "metadata": {
    "collapsed": false,
    "pycharm": {
     "name": "#%%\n"
    }
   }
  },
  {
   "cell_type": "markdown",
   "source": [
    "Die meisten Veranstaltungen finden in Kiel und Umgebung statt, jedoch gibt es auch Ausnahmen, wie zum Beispiel im Jahr 2008 die Agrar- und Ernährungswissenschaftliche Fakultät, die jährlich eine Veranstaltung in Gartersleben (Sachsen-Anhalt) angeboten hat.\n",
    "Die Module der Philosophischen und Rechtswissenschaftlichen Fakultäten finden auf dem gesamten Campus statt. Die Theologen hingegen sind sehr sesshaft in der Leibnizstraße 4.\n",
    "An beiden Darstellungen erkennt man gut, wenn neue Gebäude eröffnet wurden. Zum Beispiel finden seit dem Wintersemester 2021 vermehrt Veranstaltungen der Rechtswissenschaftlichen Fakultät im Juridicum statt."
   ],
   "metadata": {
    "collapsed": false,
    "pycharm": {
     "name": "#%% md\n"
    }
   }
  },
  {
   "cell_type": "markdown",
   "source": [
    "## Welche Wege müssen Studierende der Informatik bzw. Wirtschaftsinformatik in einem Semester gehen?"
   ],
   "metadata": {
    "collapsed": false,
    "pycharm": {
     "name": "#%% md\n"
    }
   }
  },
  {
   "cell_type": "markdown",
   "source": [
    "Für die Visualisierung dieser Fragen haben wir uns entschieden Karten zu erstellen. Diese sind auf der Website zu finden, da wir für Informatik und Wirtschaftsinformatik jeweils für jedes Semester seit dem Wintersemester 2015 erstellen. Um weitere Details zu erkennen, ist es ebenfalls möglich eine Karte für ein bestimmtes Fachsemester auszuwählen.\n",
    "\n",
    "Als Beispiel ist hier eine Karte, die die Wege eines Informatikstudierenden im Wintersemester 2022/23 darstellt:"
   ],
   "metadata": {
    "collapsed": false,
    "pycharm": {
     "name": "#%% md\n"
    }
   }
  },
  {
   "cell_type": "code",
   "execution_count": null,
   "outputs": [],
   "source": [
    "schedulemap.inf_map(fertig_winf, \"2022w\")"
   ],
   "metadata": {
    "collapsed": false,
    "pycharm": {
     "name": "#%%\n"
    }
   }
  },
  {
   "cell_type": "markdown",
   "source": [
    "Hier erklären wir kurz, wie wir diese Karten erstellen.\n",
    "Ein Dataframe mit den entsprechenden Informationen, ein Semester und wenn gewünscht ein Fachsemester werden an die Funktion `inf_map(map_df, sem)` aus dem Modul `schedulemap.py` weitergegeben. Diese erstellen nun eine Karte mit einem Startpunkt auf dem Universitätsgelände und iterieren durch die Wochentage, wobei für jeden Wochentag ein Layer erstellt wird. Wenn nun durch das Dataframe iteriert wird, werden die Reihen übersprungen, die nicht zum aktuellen Semester, Tag und/oder Fachsemester gehören. Für jede Route in unserer Reihe wird eine Linie auf der Karte erstellt und für jeden Wegpunkt ein Marker gesetzt. So entsteht eine Karte.\n",
    "\n",
    "An diesen Karten konnten wir erkennen, dass die meisten Veranstaltungen in dem Bereich um der Ludewig-Meyn-Straße und dem Christian-Albrechts-Platz stattfinden und die Studenten eher kurze Wege beschreiten müssen. Hauptsächlich die Studierenden aus den ersten drei Fachsemestern müssen Richtung Leibnizstraße gehen.\n",
    "Im Gegensazu zu Informatikern haben die Wirtschaftsinformaitker auch im sechsten Fachsemester Pflictmodule."
   ],
   "metadata": {
    "collapsed": false,
    "pycharm": {
     "name": "#%% md\n"
    }
   }
  },
  {
   "cell_type": "markdown",
   "source": [
    "## Wie barrierefrei sind die Veranstaltungen der einzelnen Fakultäten für Rollstuhlfahrende?"
   ],
   "metadata": {
    "collapsed": false,
    "pycharm": {
     "name": "#%% md\n"
    }
   }
  },
  {
   "cell_type": "markdown",
   "source": [
    "Für die Visualisierung erstellen wir einen Lineplot, der den Anteil an Räumen anzeigt, die mit einem Rollstuhl zugänglich sind."
   ],
   "metadata": {
    "collapsed": false,
    "pycharm": {
     "name": "#%% md\n"
    }
   }
  },
  {
   "cell_type": "code",
   "execution_count": null,
   "outputs": [],
   "source": [
    "fig_r = plotly.express.line(df, x='Semester', y='Prozentualer Anteil', color='Fakultät', title='Rolli',\n",
    "              color_discrete_map=FACULTY_COLORS)\n",
    "fig_r.update_traces(hovertemplate=None)\n",
    "fig_r.update_layout(hovermode='x')"
   ],
   "metadata": {
    "collapsed": false,
    "pycharm": {
     "name": "#%%\n"
    }
   }
  },
  {
   "cell_type": "markdown",
   "source": [
    "Es ist auffällig, dass der Anteil an Räumen, die mit einem Rollstuhl zugänglich sind, bei der Theologischen Fakultäten ab dem Sommersemester 2005 stetig gestiegen und im Wintersemester 2016 plötzlich gesunken ist.\n",
    "Weiter ist aufgefallen, dass der Anteil bei der Rechtswissenschaftlichen Fakultät im Sommersemester 2022 stark angestiegen ist. Dies lässt sich dadurch erklären, dass zu dieser Zeit das Juridicum fertiggestellt und eröffnet wurde.\n",
    "Zu der Medizinischen Fakultät lässt sich sagen, dass der Anteil im Wintersemester 2008 plötzlich angestiegen ist. Diese haben auch erst vier Jahre nach den anderen Fakultäten angefangen, den entsprechenden Eintrag im UnivIS zu pflegen.\n",
    "Als allgemeiner Trend ist zu beobachten, dass zu Beginn der Anteil steigt, bis ein Wert von ca. 50 % erreicht ist, dann bis Corona gleichbleibend ist und nach den Coronasemestern wieder auf ca. 50% ansteigt."
   ],
   "metadata": {
    "collapsed": false,
    "pycharm": {
     "name": "#%% md\n"
    }
   }
  },
  {
   "cell_type": "markdown",
   "source": [
    "## Wie hat sich die Arbeitsbelastung einer Lehrperson bezüglich Lehrveranstaltungen entwickelt?"
   ],
   "metadata": {
    "collapsed": false,
    "pycharm": {
     "name": "#%% md\n"
    }
   }
  },
  {
   "cell_type": "markdown",
   "source": [
    "Wir haben uns für einen Lineplot entschieden, um die Entwicklung über die Zeit anzusehen. Die Arbeitsbelastung wird dabei angegeben als die Anzahl der durchschnittlichen Vorlesungen pro Lehrperson."
   ],
   "metadata": {
    "collapsed": false,
    "pycharm": {
     "name": "#%% md\n"
    }
   }
  },
  {
   "cell_type": "code",
   "execution_count": null,
   "outputs": [],
   "source": [
    "fig = plotly.express.line(df, x=\"Semester\", y=\"Arbeitsbelastung\", color=\"Fakultät\", title='', color_discrete_map=FACULTY_COLORS)\n",
    "fig.update_traces(hovertemplate='<br>'.join([\n",
    "    'Arbeitsbelastung: %{y:.2f} Durchschnittliche Vorlesungen pro Lehrperson'\n",
    "]))\n",
    "fig.update_layout(hovermode='x')"
   ],
   "metadata": {
    "collapsed": false,
    "pycharm": {
     "name": "#%%\n"
    }
   }
  },
  {
   "cell_type": "markdown",
   "source": [
    "Die Arbeitsbelastung einer Lehrperson der medizinischen Fakultät ist von 4,56 durchschnittlichen Veranstaltungen pro Lehrperson auf 1,8 stark gesunken. Wenn sich die Arbeitsbelastung einer Fakultät erhöht hat, dann lediglich um höchstens eine Veranstaltung im untersuchten Zeitraum. Sonst ist aufgefallen, dass die Arbeitsbelastung bei manchen Fakultäten davon abhängig ist, ob gerade Sommer- oder Wintersemester ist. Zum Beispiel bei der Technischen Fakultät war ab dem Sommersemester 2013 die Arbeitsbelastung im Winter höher als im Sommer. Dies kehrte sich im Wintersemester 2021 um, was unter anderem auf die neue Fachprüfungsordnung der Informatik zurückzuführen sein könnte.\n",
    "Insgesamt ist die Arbeitsbelastung über die Jahre hinweg relativ konstant geblieben."
   ],
   "metadata": {
    "collapsed": false,
    "pycharm": {
     "name": "#%% md\n"
    }
   }
  },
  {
   "cell_type": "markdown",
   "source": [
    "## In welcher Fakultät finden die meisten Veranstaltungen auf Englisch statt?"
   ],
   "metadata": {
    "collapsed": false,
    "pycharm": {
     "name": "#%% md\n"
    }
   }
  },
  {
   "cell_type": "markdown",
   "source": [
    "Hier kann einfach die Funktion `visualize(df)` aus dem Modul `english.py` aufgerufen werden, um unsere Graphen anzeigen zu lassen. Wir haben uns für animierte Balkendiagramme bzw. für einen animierten Scatterplot entschieden."
   ],
   "metadata": {
    "collapsed": false,
    "pycharm": {
     "name": "#%% md\n"
    }
   }
  },
  {
   "cell_type": "code",
   "execution_count": null,
   "outputs": [],
   "source": [
    "absolute, ratio_bar = english.visualize(df_english)"
   ],
   "metadata": {
    "collapsed": false,
    "pycharm": {
     "name": "#%%\n"
    }
   }
  },
  {
   "cell_type": "markdown",
   "source": [
    "Durch die Variable „absolute“ wird ein Balkendiagramm angezeigt, dass die absolute Anzahl an Veranstaltungen auf Englisch visualisiert."
   ],
   "metadata": {
    "collapsed": false,
    "pycharm": {
     "name": "#%% md\n"
    }
   }
  },
  {
   "cell_type": "code",
   "execution_count": null,
   "outputs": [],
   "source": [
    "absolute"
   ],
   "metadata": {
    "collapsed": false,
    "pycharm": {
     "name": "#%%\n"
    }
   }
  },
  {
   "cell_type": "markdown",
   "source": [
    " Der nächste Graph ist ein Balkendiagramm, der den prozentualen Anteil der englischsprachigeny Veranstaltungen pro Fakultät anzeigt."
   ],
   "metadata": {
    "collapsed": false,
    "pycharm": {
     "name": "#%% md\n"
    }
   }
  },
  {
   "cell_type": "code",
   "execution_count": null,
   "outputs": [],
   "source": [
    "ratio_bar"
   ],
   "metadata": {
    "collapsed": false,
    "pycharm": {
     "name": "#%%\n"
    }
   }
  },
  {
   "cell_type": "markdown",
   "source": [
    "Insgesamt ist zu sehen, dass die absolute Anzahl an englischen Modulen bei allen Fakultäten steigt. Eine Ausnahme bildet die Philosophische Fakultät.\n",
    "Weiter ist auffällig, dass die Technische Fakultät seit 2009 im Wintersemester mehr englische Module anbietet als im Sommersemester. Im Wintersemester 2019 ist außerdem ein plötzlicher Anstieg zu sehen, der möglicherweise mit der Einführung der neuen Fachprüfungsordnung der Informatik zusammenhängen könnte.\n",
    "\n",
    "Die Darstellung des Anteils der englischsprachigen Veranstaltungen bestätigt die vorherige Auswertung. Ansonsten ist zu erkennen, dass der Anteil sich bei den meisten Fakultäten auf unter 25% beschränkt, lediglich die Technische Fakultät nähert sich stetig den 50% an.\n",
    "\n",
    "Anscheinend bieten die Medizinische und Theologische Fakultät keine englischen Module oder pflegen den entsprechenden Eintrag im UnivIS für die Modulsprache nicht."
   ],
   "metadata": {
    "collapsed": false,
    "pycharm": {
     "name": "#%% md\n"
    }
   }
  },
  {
   "cell_type": "markdown",
   "source": [],
   "metadata": {
    "collapsed": false,
    "pycharm": {
     "name": "#%% md\n"
    }
   }
  },
  {
   "cell_type": "markdown",
   "source": [
    "## Wie hat sich der Anteil von Mitarbeitenden mit nicht-männlich erkannten Vornamen entwickelt?"
   ],
   "metadata": {
    "collapsed": false,
    "pycharm": {
     "name": "#%% md\n"
    }
   }
  },
  {
   "cell_type": "markdown",
   "source": [
    " Die Theologische Fakultät hat sich am meisten entwickelt: Der Anteil von Mitarbeitenden mit nicht-männlich erkannten Vornamen startet im Sommersemester 2000 bei ca. 21% und liegt im Wintersemester 2022/23 bei ca. 54%.\n",
    " Die Medizinische Fakultät befindet sich seit dem Wintersemester 2006 immer über 50%. Die Technische Fakultät erreicht hingegen nicht einmal einen Wert von 30%.\n",
    "Die Anteile der anderen Fakultäten steigen stetig, aber bleiben relativ konstant. Dabei erreicht keine Fakultät die 60%-Marke.\n",
    "(Diese Auswertung bezieht sich auf eine Wahrscheinlichkeit einer richtigen Klassifizierung von 75%.)"
   ],
   "metadata": {
    "collapsed": false,
    "pycharm": {
     "name": "#%% md\n"
    }
   }
  },
  {
   "cell_type": "markdown",
   "source": [
    "## Gibt es Kriterien, anhand derer der Gewinner des Best-Prof-Awards vorhergesagt werden kann?"
   ],
   "metadata": {
    "collapsed": false,
    "pycharm": {
     "name": "#%% md\n"
    }
   }
  },
  {
   "cell_type": "markdown",
   "source": [],
   "metadata": {
    "collapsed": false,
    "pycharm": {
     "name": "#%% md\n"
    }
   }
  }
 ],
 "metadata": {
  "kernelspec": {
   "display_name": "Python 3",
   "language": "python",
   "name": "python3"
  },
  "language_info": {
   "codemirror_mode": {
    "name": "ipython",
    "version": 2
   },
   "file_extension": ".py",
   "mimetype": "text/x-python",
   "name": "python",
   "nbconvert_exporter": "python",
   "pygments_lexer": "ipython2",
   "version": "2.7.6"
  }
 },
 "nbformat": 4,
 "nbformat_minor": 0
}